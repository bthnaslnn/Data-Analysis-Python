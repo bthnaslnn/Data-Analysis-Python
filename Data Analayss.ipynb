{
 "cells": [
  {
   "cell_type": "code",
   "execution_count": 2,
   "id": "f4db3b5e",
   "metadata": {},
   "outputs": [],
   "source": [
    "import pandas as pd"
   ]
  },
  {
   "cell_type": "code",
   "execution_count": 3,
   "id": "bd254882",
   "metadata": {},
   "outputs": [],
   "source": [
    "df = pd.read_csv('googleplaystore.csv') #csv formatındaki verisetimizi okuyoruz.\n"
   ]
  },
  {
   "cell_type": "code",
   "execution_count": 4,
   "id": "c1f81abc",
   "metadata": {},
   "outputs": [
    {
     "data": {
      "text/html": [
       "<div>\n",
       "<style scoped>\n",
       "    .dataframe tbody tr th:only-of-type {\n",
       "        vertical-align: middle;\n",
       "    }\n",
       "\n",
       "    .dataframe tbody tr th {\n",
       "        vertical-align: top;\n",
       "    }\n",
       "\n",
       "    .dataframe thead th {\n",
       "        text-align: right;\n",
       "    }\n",
       "</style>\n",
       "<table border=\"1\" class=\"dataframe\">\n",
       "  <thead>\n",
       "    <tr style=\"text-align: right;\">\n",
       "      <th></th>\n",
       "      <th>App</th>\n",
       "      <th>Category</th>\n",
       "      <th>Rating</th>\n",
       "      <th>Reviews</th>\n",
       "      <th>Size</th>\n",
       "      <th>Installs</th>\n",
       "      <th>Type</th>\n",
       "      <th>Price</th>\n",
       "      <th>Content Rating</th>\n",
       "      <th>Genres</th>\n",
       "      <th>Last Updated</th>\n",
       "      <th>Current Ver</th>\n",
       "      <th>Android Ver</th>\n",
       "    </tr>\n",
       "  </thead>\n",
       "  <tbody>\n",
       "    <tr>\n",
       "      <th>0</th>\n",
       "      <td>Photo Editor &amp; Candy Camera &amp; Grid &amp; ScrapBook</td>\n",
       "      <td>ART_AND_DESIGN</td>\n",
       "      <td>4.1</td>\n",
       "      <td>159</td>\n",
       "      <td>19M</td>\n",
       "      <td>10,000+</td>\n",
       "      <td>Free</td>\n",
       "      <td>0</td>\n",
       "      <td>Everyone</td>\n",
       "      <td>Art &amp; Design</td>\n",
       "      <td>January 7, 2018</td>\n",
       "      <td>1.0.0</td>\n",
       "      <td>4.0.3 and up</td>\n",
       "    </tr>\n",
       "    <tr>\n",
       "      <th>1</th>\n",
       "      <td>Coloring book moana</td>\n",
       "      <td>ART_AND_DESIGN</td>\n",
       "      <td>3.9</td>\n",
       "      <td>967</td>\n",
       "      <td>14M</td>\n",
       "      <td>500,000+</td>\n",
       "      <td>Free</td>\n",
       "      <td>0</td>\n",
       "      <td>Everyone</td>\n",
       "      <td>Art &amp; Design;Pretend Play</td>\n",
       "      <td>January 15, 2018</td>\n",
       "      <td>2.0.0</td>\n",
       "      <td>4.0.3 and up</td>\n",
       "    </tr>\n",
       "    <tr>\n",
       "      <th>2</th>\n",
       "      <td>U Launcher Lite – FREE Live Cool Themes, Hide ...</td>\n",
       "      <td>ART_AND_DESIGN</td>\n",
       "      <td>4.7</td>\n",
       "      <td>87510</td>\n",
       "      <td>8.7M</td>\n",
       "      <td>5,000,000+</td>\n",
       "      <td>Free</td>\n",
       "      <td>0</td>\n",
       "      <td>Everyone</td>\n",
       "      <td>Art &amp; Design</td>\n",
       "      <td>August 1, 2018</td>\n",
       "      <td>1.2.4</td>\n",
       "      <td>4.0.3 and up</td>\n",
       "    </tr>\n",
       "    <tr>\n",
       "      <th>3</th>\n",
       "      <td>Sketch - Draw &amp; Paint</td>\n",
       "      <td>ART_AND_DESIGN</td>\n",
       "      <td>4.5</td>\n",
       "      <td>215644</td>\n",
       "      <td>25M</td>\n",
       "      <td>50,000,000+</td>\n",
       "      <td>Free</td>\n",
       "      <td>0</td>\n",
       "      <td>Teen</td>\n",
       "      <td>Art &amp; Design</td>\n",
       "      <td>June 8, 2018</td>\n",
       "      <td>Varies with device</td>\n",
       "      <td>4.2 and up</td>\n",
       "    </tr>\n",
       "    <tr>\n",
       "      <th>4</th>\n",
       "      <td>Pixel Draw - Number Art Coloring Book</td>\n",
       "      <td>ART_AND_DESIGN</td>\n",
       "      <td>4.3</td>\n",
       "      <td>967</td>\n",
       "      <td>2.8M</td>\n",
       "      <td>100,000+</td>\n",
       "      <td>Free</td>\n",
       "      <td>0</td>\n",
       "      <td>Everyone</td>\n",
       "      <td>Art &amp; Design;Creativity</td>\n",
       "      <td>June 20, 2018</td>\n",
       "      <td>1.1</td>\n",
       "      <td>4.4 and up</td>\n",
       "    </tr>\n",
       "  </tbody>\n",
       "</table>\n",
       "</div>"
      ],
      "text/plain": [
       "                                                 App        Category  Rating  \\\n",
       "0     Photo Editor & Candy Camera & Grid & ScrapBook  ART_AND_DESIGN     4.1   \n",
       "1                                Coloring book moana  ART_AND_DESIGN     3.9   \n",
       "2  U Launcher Lite – FREE Live Cool Themes, Hide ...  ART_AND_DESIGN     4.7   \n",
       "3                              Sketch - Draw & Paint  ART_AND_DESIGN     4.5   \n",
       "4              Pixel Draw - Number Art Coloring Book  ART_AND_DESIGN     4.3   \n",
       "\n",
       "  Reviews  Size     Installs  Type Price Content Rating  \\\n",
       "0     159   19M      10,000+  Free     0       Everyone   \n",
       "1     967   14M     500,000+  Free     0       Everyone   \n",
       "2   87510  8.7M   5,000,000+  Free     0       Everyone   \n",
       "3  215644   25M  50,000,000+  Free     0           Teen   \n",
       "4     967  2.8M     100,000+  Free     0       Everyone   \n",
       "\n",
       "                      Genres      Last Updated         Current Ver  \\\n",
       "0               Art & Design   January 7, 2018               1.0.0   \n",
       "1  Art & Design;Pretend Play  January 15, 2018               2.0.0   \n",
       "2               Art & Design    August 1, 2018               1.2.4   \n",
       "3               Art & Design      June 8, 2018  Varies with device   \n",
       "4    Art & Design;Creativity     June 20, 2018                 1.1   \n",
       "\n",
       "    Android Ver  \n",
       "0  4.0.3 and up  \n",
       "1  4.0.3 and up  \n",
       "2  4.0.3 and up  \n",
       "3    4.2 and up  \n",
       "4    4.4 and up  "
      ]
     },
     "execution_count": 4,
     "metadata": {},
     "output_type": "execute_result"
    }
   ],
   "source": [
    "df.head() #verisetimizin ilk satırların bakalım."
   ]
  },
  {
   "cell_type": "code",
   "execution_count": 5,
   "id": "d97ce8f9",
   "metadata": {},
   "outputs": [
    {
     "data": {
      "text/html": [
       "<div>\n",
       "<style scoped>\n",
       "    .dataframe tbody tr th:only-of-type {\n",
       "        vertical-align: middle;\n",
       "    }\n",
       "\n",
       "    .dataframe tbody tr th {\n",
       "        vertical-align: top;\n",
       "    }\n",
       "\n",
       "    .dataframe thead th {\n",
       "        text-align: right;\n",
       "    }\n",
       "</style>\n",
       "<table border=\"1\" class=\"dataframe\">\n",
       "  <thead>\n",
       "    <tr style=\"text-align: right;\">\n",
       "      <th></th>\n",
       "      <th>App</th>\n",
       "      <th>Category</th>\n",
       "      <th>Rating</th>\n",
       "      <th>Reviews</th>\n",
       "      <th>Size</th>\n",
       "      <th>Installs</th>\n",
       "      <th>Type</th>\n",
       "      <th>Price</th>\n",
       "      <th>Content Rating</th>\n",
       "      <th>Genres</th>\n",
       "      <th>Last Updated</th>\n",
       "      <th>Current Ver</th>\n",
       "      <th>Android Ver</th>\n",
       "    </tr>\n",
       "  </thead>\n",
       "  <tbody>\n",
       "    <tr>\n",
       "      <th>10836</th>\n",
       "      <td>Sya9a Maroc - FR</td>\n",
       "      <td>FAMILY</td>\n",
       "      <td>4.5</td>\n",
       "      <td>38</td>\n",
       "      <td>53M</td>\n",
       "      <td>5,000+</td>\n",
       "      <td>Free</td>\n",
       "      <td>0</td>\n",
       "      <td>Everyone</td>\n",
       "      <td>Education</td>\n",
       "      <td>July 25, 2017</td>\n",
       "      <td>1.48</td>\n",
       "      <td>4.1 and up</td>\n",
       "    </tr>\n",
       "    <tr>\n",
       "      <th>10837</th>\n",
       "      <td>Fr. Mike Schmitz Audio Teachings</td>\n",
       "      <td>FAMILY</td>\n",
       "      <td>5.0</td>\n",
       "      <td>4</td>\n",
       "      <td>3.6M</td>\n",
       "      <td>100+</td>\n",
       "      <td>Free</td>\n",
       "      <td>0</td>\n",
       "      <td>Everyone</td>\n",
       "      <td>Education</td>\n",
       "      <td>July 6, 2018</td>\n",
       "      <td>1.0</td>\n",
       "      <td>4.1 and up</td>\n",
       "    </tr>\n",
       "    <tr>\n",
       "      <th>10838</th>\n",
       "      <td>Parkinson Exercices FR</td>\n",
       "      <td>MEDICAL</td>\n",
       "      <td>NaN</td>\n",
       "      <td>3</td>\n",
       "      <td>9.5M</td>\n",
       "      <td>1,000+</td>\n",
       "      <td>Free</td>\n",
       "      <td>0</td>\n",
       "      <td>Everyone</td>\n",
       "      <td>Medical</td>\n",
       "      <td>January 20, 2017</td>\n",
       "      <td>1.0</td>\n",
       "      <td>2.2 and up</td>\n",
       "    </tr>\n",
       "    <tr>\n",
       "      <th>10839</th>\n",
       "      <td>The SCP Foundation DB fr nn5n</td>\n",
       "      <td>BOOKS_AND_REFERENCE</td>\n",
       "      <td>4.5</td>\n",
       "      <td>114</td>\n",
       "      <td>Varies with device</td>\n",
       "      <td>1,000+</td>\n",
       "      <td>Free</td>\n",
       "      <td>0</td>\n",
       "      <td>Mature 17+</td>\n",
       "      <td>Books &amp; Reference</td>\n",
       "      <td>January 19, 2015</td>\n",
       "      <td>Varies with device</td>\n",
       "      <td>Varies with device</td>\n",
       "    </tr>\n",
       "    <tr>\n",
       "      <th>10840</th>\n",
       "      <td>iHoroscope - 2018 Daily Horoscope &amp; Astrology</td>\n",
       "      <td>LIFESTYLE</td>\n",
       "      <td>4.5</td>\n",
       "      <td>398307</td>\n",
       "      <td>19M</td>\n",
       "      <td>10,000,000+</td>\n",
       "      <td>Free</td>\n",
       "      <td>0</td>\n",
       "      <td>Everyone</td>\n",
       "      <td>Lifestyle</td>\n",
       "      <td>July 25, 2018</td>\n",
       "      <td>Varies with device</td>\n",
       "      <td>Varies with device</td>\n",
       "    </tr>\n",
       "  </tbody>\n",
       "</table>\n",
       "</div>"
      ],
      "text/plain": [
       "                                                 App             Category  \\\n",
       "10836                               Sya9a Maroc - FR               FAMILY   \n",
       "10837               Fr. Mike Schmitz Audio Teachings               FAMILY   \n",
       "10838                         Parkinson Exercices FR              MEDICAL   \n",
       "10839                  The SCP Foundation DB fr nn5n  BOOKS_AND_REFERENCE   \n",
       "10840  iHoroscope - 2018 Daily Horoscope & Astrology            LIFESTYLE   \n",
       "\n",
       "       Rating Reviews                Size     Installs  Type Price  \\\n",
       "10836     4.5      38                 53M       5,000+  Free     0   \n",
       "10837     5.0       4                3.6M         100+  Free     0   \n",
       "10838     NaN       3                9.5M       1,000+  Free     0   \n",
       "10839     4.5     114  Varies with device       1,000+  Free     0   \n",
       "10840     4.5  398307                 19M  10,000,000+  Free     0   \n",
       "\n",
       "      Content Rating             Genres      Last Updated         Current Ver  \\\n",
       "10836       Everyone          Education     July 25, 2017                1.48   \n",
       "10837       Everyone          Education      July 6, 2018                 1.0   \n",
       "10838       Everyone            Medical  January 20, 2017                 1.0   \n",
       "10839     Mature 17+  Books & Reference  January 19, 2015  Varies with device   \n",
       "10840       Everyone          Lifestyle     July 25, 2018  Varies with device   \n",
       "\n",
       "              Android Ver  \n",
       "10836          4.1 and up  \n",
       "10837          4.1 and up  \n",
       "10838          2.2 and up  \n",
       "10839  Varies with device  \n",
       "10840  Varies with device  "
      ]
     },
     "execution_count": 5,
     "metadata": {},
     "output_type": "execute_result"
    }
   ],
   "source": [
    "df.tail()"
   ]
  },
  {
   "cell_type": "code",
   "execution_count": 6,
   "id": "0caa92c6",
   "metadata": {},
   "outputs": [
    {
     "data": {
      "text/plain": [
       "Index(['App', 'Category', 'Rating', 'Reviews', 'Size', 'Installs', 'Type',\n",
       "       'Price', 'Content Rating', 'Genres', 'Last Updated', 'Current Ver',\n",
       "       'Android Ver'],\n",
       "      dtype='object')"
      ]
     },
     "execution_count": 6,
     "metadata": {},
     "output_type": "execute_result"
    }
   ],
   "source": [
    "df.columns #verisetimizdeki sütun isimlerini görelim"
   ]
  },
  {
   "cell_type": "code",
   "execution_count": 7,
   "id": "42bc0ebf",
   "metadata": {},
   "outputs": [],
   "source": [
    "df.columns = df.columns.str.replace(\" \",\"_\") #Sütun isimleri içerisindeki \"düzensiz\" yerleri '_' ifadesi ile dolduralım."
   ]
  },
  {
   "cell_type": "code",
   "execution_count": 8,
   "id": "625b8b4a",
   "metadata": {},
   "outputs": [
    {
     "data": {
      "text/plain": [
       "Index(['App', 'Category', 'Rating', 'Reviews', 'Size', 'Installs', 'Type',\n",
       "       'Price', 'Content_Rating', 'Genres', 'Last_Updated', 'Current_Ver',\n",
       "       'Android_Ver'],\n",
       "      dtype='object')"
      ]
     },
     "execution_count": 8,
     "metadata": {},
     "output_type": "execute_result"
    }
   ],
   "source": [
    "df.columns"
   ]
  },
  {
   "cell_type": "code",
   "execution_count": 9,
   "id": "2203e2a7",
   "metadata": {},
   "outputs": [
    {
     "data": {
      "text/plain": [
       "(10841, 13)"
      ]
     },
     "execution_count": 9,
     "metadata": {},
     "output_type": "execute_result"
    }
   ],
   "source": [
    "df.shape #verisetimizdeki satır ve sütun sayıları ekrana yazıldı"
   ]
  },
  {
   "cell_type": "code",
   "execution_count": 10,
   "id": "ef7e1c9a",
   "metadata": {},
   "outputs": [],
   "source": [
    "#10841 satır ve 13 sütun bulunuyor.\n",
    "#Veri analizinde satırlara örneklem ve sütunlara öznitelik denir.\n",
    "#Şimdi sütunların veri tiplerini kontrol edelim"
   ]
  },
  {
   "cell_type": "code",
   "execution_count": 11,
   "id": "a8b03e6f",
   "metadata": {},
   "outputs": [
    {
     "data": {
      "text/plain": [
       "App                object\n",
       "Category           object\n",
       "Rating            float64\n",
       "Reviews            object\n",
       "Size               object\n",
       "Installs           object\n",
       "Type               object\n",
       "Price              object\n",
       "Content_Rating     object\n",
       "Genres             object\n",
       "Last_Updated       object\n",
       "Current_Ver        object\n",
       "Android_Ver        object\n",
       "dtype: object"
      ]
     },
     "execution_count": 11,
     "metadata": {},
     "output_type": "execute_result"
    }
   ],
   "source": [
    "df.dtypes"
   ]
  },
  {
   "cell_type": "code",
   "execution_count": 12,
   "id": "8a7b23f6",
   "metadata": {},
   "outputs": [],
   "source": [
    "#Gözüktüğü gibi sadece 'Rating' sütunu float tipinde. Fakat Size ve Install sütunları sayısal tipte olmalıdır."
   ]
  },
  {
   "cell_type": "code",
   "execution_count": 13,
   "id": "8da56bb5",
   "metadata": {},
   "outputs": [],
   "source": [
    "#Şimdi eksik verileri ele alalım\n",
    "#Eksik verileri ele almak veri analizinin önemli aşamalarından biridir\n",
    "#O kadar önemlidir ki sadece bu eksik verilerin nasıl ele alınmasına dair tezler ve fikirler mevcuttur."
   ]
  },
  {
   "cell_type": "code",
   "execution_count": 14,
   "id": "46beae0e",
   "metadata": {},
   "outputs": [
    {
     "data": {
      "text/plain": [
       "App                  0\n",
       "Category             0\n",
       "Rating            1474\n",
       "Reviews              0\n",
       "Size                 0\n",
       "Installs             0\n",
       "Type                 1\n",
       "Price                0\n",
       "Content_Rating       1\n",
       "Genres               0\n",
       "Last_Updated         0\n",
       "Current_Ver          8\n",
       "Android_Ver          3\n",
       "dtype: int64"
      ]
     },
     "execution_count": 14,
     "metadata": {},
     "output_type": "execute_result"
    }
   ],
   "source": [
    "df.isnull().sum()"
   ]
  },
  {
   "cell_type": "code",
   "execution_count": 15,
   "id": "4ebd4c76",
   "metadata": {},
   "outputs": [],
   "source": [
    "#Gözüktüğü gibi 'Rating' sütununda 1471, 'Type' sütununda 1, \n",
    "#'Content_Rating' sütununda 1,'Current_Ver sütununda 8've 'Androi_Ver'sütununda da 3 tane eksik veri olduğu gözükmektedir."
   ]
  },
  {
   "cell_type": "code",
   "execution_count": 16,
   "id": "40127808",
   "metadata": {},
   "outputs": [],
   "source": [
    "#Eksik verileri seaborn kütüphanesi ile görselleştirebiliriz"
   ]
  },
  {
   "cell_type": "code",
   "execution_count": 17,
   "id": "a9be04e4",
   "metadata": {},
   "outputs": [],
   "source": [
    "import seaborn as sns"
   ]
  },
  {
   "cell_type": "code",
   "execution_count": 18,
   "id": "3576ea57",
   "metadata": {},
   "outputs": [],
   "source": [
    "sns.set_theme()\n",
    "sns.set(rc={\"figure.dpi\":400,\"figure.figsize\":(12,9)}) #grafik kalitesi ve grafik boyutunu ayarlayalım"
   ]
  },
  {
   "cell_type": "code",
   "execution_count": 19,
   "id": "71bcb550",
   "metadata": {},
   "outputs": [
    {
     "data": {
      "text/plain": [
       "<AxesSubplot:>"
      ]
     },
     "execution_count": 19,
     "metadata": {},
     "output_type": "execute_result"
    },
    {
     "data": {
      "image/png": "[encoded data removed]",
      "text/plain": [
       "<Figure size 432x288 with 1 Axes>"
      ]
     },
     "metadata": {
      "needs_background": "light"
     },
     "output_type": "display_data"
    }
   ],
   "source": [
    "sns.heatmap(df.isnull(), cbar=False) "
   ]
  },
  {
   "cell_type": "code",
   "execution_count": 20,
   "id": "23a86c93",
   "metadata": {},
   "outputs": [],
   "source": [
    "#Bu kısımda 'Rating' sütunundaki eksik verilerin olduğu açıkça bellidir. Current_Ver sütunundaki birkaç eksi veri de gözüküyor."
   ]
  },
  {
   "cell_type": "code",
   "execution_count": 21,
   "id": "fa504f8b",
   "metadata": {},
   "outputs": [],
   "source": [
    "#Bu eksik verileri çeşitli şekilde doldurulabilir.\n",
    "#En kolayı eksik veri içeren satırları kaldırmak fakat bu yaklaşım veri kaybına yol açacağı için tavsiye edilmez.\n",
    "#Genellikle eksik verilerin yerine sütunun ortalaması veya medyanı yazılır \n",
    "#Verisetinde aykırı değerler olabileceğinden ortalama yerine medyan kullanılır, çünkü medyan aykırı verilere karşı daya dayanakıldıır."
   ]
  },
  {
   "cell_type": "code",
   "execution_count": 22,
   "id": "43824a42",
   "metadata": {},
   "outputs": [
    {
     "data": {
      "text/plain": [
       "4.3"
      ]
     },
     "execution_count": 22,
     "metadata": {},
     "output_type": "execute_result"
    }
   ],
   "source": [
    "rating_median=df[\"Rating\"].median()\n",
    "rating_median"
   ]
  },
  {
   "cell_type": "code",
   "execution_count": 23,
   "id": "7bc341cb",
   "metadata": {},
   "outputs": [],
   "source": [
    "#Böylece 'Rating' sütununun medyan değerini bulmuş olduk ardından bu veriyi eksik verilerin yerine koyabiliriz."
   ]
  },
  {
   "cell_type": "code",
   "execution_count": 24,
   "id": "a3b1e4e7",
   "metadata": {},
   "outputs": [],
   "source": [
    "df[\"Rating\"].fillna(rating_median, inplace=True)"
   ]
  },
  {
   "cell_type": "code",
   "execution_count": 25,
   "id": "a22ddf2a",
   "metadata": {},
   "outputs": [],
   "source": [
    "#Böylece 'Rating' sütunundaki eksik verileri doldurmuş olduk.\n",
    "#Diğer sütundaki eksik veriler az olduğu için 'dropna' komutuyla kaldıralım"
   ]
  },
  {
   "cell_type": "code",
   "execution_count": 26,
   "id": "2b6e2648",
   "metadata": {},
   "outputs": [],
   "source": [
    "df.dropna(inplace=True)"
   ]
  },
  {
   "cell_type": "code",
   "execution_count": 27,
   "id": "88d34a3b",
   "metadata": {},
   "outputs": [],
   "source": [
    "#Artık veri setimizde eksik veri kalmadı."
   ]
  },
  {
   "cell_type": "code",
   "execution_count": 28,
   "id": "847b71da",
   "metadata": {},
   "outputs": [
    {
     "data": {
      "text/plain": [
       "0"
      ]
     },
     "execution_count": 28,
     "metadata": {},
     "output_type": "execute_result"
    }
   ],
   "source": [
    "df.isnull().sum().sum() #Verisetimizde hiçbir eksik veri yok."
   ]
  },
  {
   "cell_type": "code",
   "execution_count": 29,
   "id": "fba3229c",
   "metadata": {},
   "outputs": [
    {
     "name": "stdout",
     "output_type": "stream",
     "text": [
      "<class 'pandas.core.frame.DataFrame'>\n",
      "Int64Index: 10829 entries, 0 to 10840\n",
      "Data columns (total 13 columns):\n",
      " #   Column          Non-Null Count  Dtype  \n",
      "---  ------          --------------  -----  \n",
      " 0   App             10829 non-null  object \n",
      " 1   Category        10829 non-null  object \n",
      " 2   Rating          10829 non-null  float64\n",
      " 3   Reviews         10829 non-null  object \n",
      " 4   Size            10829 non-null  object \n",
      " 5   Installs        10829 non-null  object \n",
      " 6   Type            10829 non-null  object \n",
      " 7   Price           10829 non-null  object \n",
      " 8   Content_Rating  10829 non-null  object \n",
      " 9   Genres          10829 non-null  object \n",
      " 10  Last_Updated    10829 non-null  object \n",
      " 11  Current_Ver     10829 non-null  object \n",
      " 12  Android_Ver     10829 non-null  object \n",
      "dtypes: float64(1), object(12)\n",
      "memory usage: 1.2+ MB\n"
     ]
    }
   ],
   "source": [
    "df.info() #Verisetimiz hakkında özet bilgiler için"
   ]
  },
  {
   "cell_type": "code",
   "execution_count": 30,
   "id": "4b85be42",
   "metadata": {},
   "outputs": [],
   "source": [
    "#'Reviews' - 'Size' vb. komutların object tipinden sayısal tipe çevrilmesi gerekiyor.\n",
    "#'Reviews' sütunuyla başlayalınm"
   ]
  },
  {
   "cell_type": "code",
   "execution_count": 31,
   "id": "04f7d742",
   "metadata": {},
   "outputs": [
    {
     "data": {
      "text/plain": [
       "count     10829\n",
       "unique     5999\n",
       "top           0\n",
       "freq        594\n",
       "Name: Reviews, dtype: object"
      ]
     },
     "execution_count": 31,
     "metadata": {},
     "output_type": "execute_result"
    }
   ],
   "source": [
    "df[\"Reviews\"].describe() #"
   ]
  },
  {
   "cell_type": "code",
   "execution_count": 32,
   "id": "5d6fe1be",
   "metadata": {},
   "outputs": [],
   "source": [
    "#Gözüktüğü gibi bu sütunda toplam 10829 değer, tek değer sayısı5999, en çok değer0 dan oluşuyo ve\n",
    "#bu 0 lar 594 defa tekrar etmiş."
   ]
  },
  {
   "cell_type": "code",
   "execution_count": 33,
   "id": "dfa33724",
   "metadata": {},
   "outputs": [],
   "source": [
    "df[\"Reviews\"] = df[\"Reviews\"].astype(\"int64\") #Sütunu sayısala çevirip tekrardan kendisine atayarak işlemi tamamlamış oluyoruz."
   ]
  },
  {
   "cell_type": "code",
   "execution_count": 34,
   "id": "1316ce2e",
   "metadata": {},
   "outputs": [
    {
     "data": {
      "text/plain": [
       "count    1.082900e+04\n",
       "mean     4.446018e+05\n",
       "std      2.929213e+06\n",
       "min      0.000000e+00\n",
       "25%      3.800000e+01\n",
       "50%      2.100000e+03\n",
       "75%      5.481500e+04\n",
       "max      7.815831e+07\n",
       "Name: Reviews, dtype: float64"
      ]
     },
     "execution_count": 34,
     "metadata": {},
     "output_type": "execute_result"
    }
   ],
   "source": [
    "df[\"Reviews\"].describe()"
   ]
  },
  {
   "cell_type": "code",
   "execution_count": 35,
   "id": "01ffbbe2",
   "metadata": {},
   "outputs": [
    {
     "data": {
      "text/plain": [
       "count       10829.0\n",
       "mean       444602.0\n",
       "std       2929213.0\n",
       "min             0.0\n",
       "25%            38.0\n",
       "50%          2100.0\n",
       "75%         54815.0\n",
       "max      78158306.0\n",
       "Name: Reviews, dtype: float64"
      ]
     },
     "execution_count": 35,
     "metadata": {},
     "output_type": "execute_result"
    }
   ],
   "source": [
    "df[\"Reviews\"].describe().round()"
   ]
  },
  {
   "cell_type": "code",
   "execution_count": 36,
   "id": "91e5480c",
   "metadata": {},
   "outputs": [],
   "source": [
    "#Görüldüğü gibi sayısala çevirdiğimiz için ort,standart sapma gibi özet istatistikler ortaya çıktı.\n",
    "#dikkat edersek verinin ortalaması 444602 , ortanca değer 2100 veri ortalamalası > medyan\n",
    "#standart sapma değeri oldukça yüksek ver maksimum dğeer sayısı ortalama değerden oldukça yüksek\n",
    "#bu özet istatistikler bu sütunda aykırı değerlerin olduğunu gösterir"
   ]
  },
  {
   "cell_type": "code",
   "execution_count": 37,
   "id": "1a95d2d1",
   "metadata": {},
   "outputs": [
    {
     "data": {
      "text/plain": [
       "array(['19M', '14M', '8.7M', '25M', '2.8M', '5.6M', '29M', '33M', '3.1M',\n",
       "       '28M', '12M', '20M', '21M', '37M', '5.5M', '17M', '39M', '31M',\n",
       "       '4.2M', '7.0M', '23M', '6.0M', '6.1M', '4.6M', '9.2M', '5.2M',\n",
       "       '11M', '24M', 'Varies with device', '9.4M', '15M', '10M', '1.2M',\n",
       "       '26M', '8.0M', '7.9M', '56M', '57M', '35M', '54M', '201k', '3.6M',\n",
       "       '5.7M', '8.6M', '2.4M', '27M', '2.7M', '2.5M', '16M', '3.4M',\n",
       "       '8.9M', '3.9M', '2.9M', '38M', '32M', '5.4M', '18M', '1.1M',\n",
       "       '2.2M', '4.5M', '9.8M', '52M', '9.0M', '6.7M', '30M', '2.6M',\n",
       "       '7.1M', '3.7M', '22M', '7.4M', '6.4M', '3.2M', '8.2M', '9.9M',\n",
       "       '4.9M', '9.5M', '5.0M', '5.9M', '13M', '73M', '6.8M', '3.5M',\n",
       "       '4.0M', '2.3M', '7.2M', '2.1M', '42M', '7.3M', '9.1M', '55M',\n",
       "       '23k', '6.5M', '1.5M', '7.5M', '51M', '41M', '48M', '8.5M', '46M',\n",
       "       '8.3M', '4.3M', '4.7M', '3.3M', '40M', '7.8M', '8.8M', '6.6M',\n",
       "       '5.1M', '61M', '66M', '79k', '8.4M', '118k', '44M', '695k', '1.6M',\n",
       "       '6.2M', '18k', '53M', '1.4M', '3.0M', '5.8M', '3.8M', '9.6M',\n",
       "       '45M', '63M', '49M', '77M', '4.4M', '4.8M', '70M', '6.9M', '9.3M',\n",
       "       '10.0M', '8.1M', '36M', '84M', '97M', '2.0M', '1.9M', '1.8M',\n",
       "       '5.3M', '47M', '556k', '526k', '76M', '7.6M', '59M', '9.7M', '78M',\n",
       "       '72M', '43M', '7.7M', '6.3M', '334k', '34M', '93M', '65M', '79M',\n",
       "       '100M', '58M', '50M', '68M', '64M', '67M', '60M', '94M', '232k',\n",
       "       '99M', '624k', '95M', '8.5k', '41k', '292k', '80M', '1.7M', '74M',\n",
       "       '62M', '69M', '75M', '98M', '85M', '82M', '96M', '87M', '71M',\n",
       "       '86M', '91M', '81M', '92M', '83M', '88M', '704k', '862k', '899k',\n",
       "       '378k', '266k', '375k', '1.3M', '975k', '980k', '4.1M', '89M',\n",
       "       '696k', '544k', '525k', '920k', '779k', '853k', '720k', '713k',\n",
       "       '772k', '318k', '58k', '241k', '196k', '857k', '51k', '953k',\n",
       "       '865k', '251k', '930k', '540k', '313k', '746k', '203k', '26k',\n",
       "       '314k', '239k', '371k', '220k', '730k', '756k', '91k', '293k',\n",
       "       '17k', '74k', '14k', '317k', '78k', '924k', '902k', '818k', '81k',\n",
       "       '939k', '169k', '45k', '475k', '965k', '90M', '545k', '61k',\n",
       "       '283k', '655k', '714k', '93k', '872k', '121k', '322k', '1.0M',\n",
       "       '976k', '172k', '238k', '549k', '206k', '954k', '444k', '717k',\n",
       "       '210k', '609k', '308k', '705k', '306k', '904k', '473k', '175k',\n",
       "       '350k', '383k', '454k', '421k', '70k', '812k', '442k', '842k',\n",
       "       '417k', '412k', '459k', '478k', '335k', '782k', '721k', '430k',\n",
       "       '429k', '192k', '200k', '460k', '728k', '496k', '816k', '414k',\n",
       "       '506k', '887k', '613k', '243k', '569k', '778k', '683k', '592k',\n",
       "       '319k', '186k', '840k', '647k', '191k', '373k', '437k', '598k',\n",
       "       '716k', '585k', '982k', '219k', '55k', '948k', '323k', '691k',\n",
       "       '511k', '951k', '963k', '25k', '554k', '351k', '27k', '82k',\n",
       "       '208k', '913k', '514k', '551k', '29k', '103k', '898k', '743k',\n",
       "       '116k', '153k', '209k', '353k', '499k', '173k', '597k', '809k',\n",
       "       '122k', '411k', '400k', '801k', '787k', '50k', '643k', '986k',\n",
       "       '97k', '516k', '837k', '780k', '961k', '269k', '20k', '498k',\n",
       "       '600k', '749k', '642k', '881k', '72k', '656k', '601k', '221k',\n",
       "       '228k', '108k', '940k', '176k', '33k', '663k', '34k', '942k',\n",
       "       '259k', '164k', '458k', '245k', '629k', '28k', '288k', '775k',\n",
       "       '785k', '636k', '916k', '994k', '309k', '485k', '914k', '903k',\n",
       "       '608k', '500k', '54k', '562k', '847k', '957k', '688k', '811k',\n",
       "       '270k', '48k', '329k', '523k', '921k', '874k', '981k', '784k',\n",
       "       '280k', '24k', '518k', '754k', '892k', '154k', '860k', '364k',\n",
       "       '387k', '626k', '161k', '879k', '39k', '970k', '170k', '141k',\n",
       "       '160k', '144k', '143k', '190k', '376k', '193k', '246k', '73k',\n",
       "       '992k', '253k', '420k', '404k', '470k', '226k', '240k', '89k',\n",
       "       '234k', '257k', '861k', '467k', '157k', '44k', '676k', '67k',\n",
       "       '552k', '885k', '1020k', '582k', '619k'], dtype=object)"
      ]
     },
     "execution_count": 37,
     "metadata": {},
     "output_type": "execute_result"
    }
   ],
   "source": [
    "df[\"Size\"].unique() #Size sütunu uygulamanın boyutunu gösteriyor."
   ]
  },
  {
   "cell_type": "code",
   "execution_count": 38,
   "id": "6de9c63c",
   "metadata": {},
   "outputs": [
    {
     "data": {
      "text/plain": [
       "457"
      ]
     },
     "execution_count": 38,
     "metadata": {},
     "output_type": "execute_result"
    }
   ],
   "source": [
    "len(df[\"Size\"].unique()) #Bu tek değerlerin sayısını 'len' metoduyla görebiliriz"
   ]
  },
  {
   "cell_type": "code",
   "execution_count": 39,
   "id": "28e7a2e2",
   "metadata": {},
   "outputs": [],
   "source": [
    "#Bu değerlerdeki M harfi megabyte şeklinde k harfi ise kilobyte şeklinde tasvir edilmiştir.\n",
    "#Ve ayrıca dikkat edersek içerisinde bir tane de metinsel ifade bulunmaktadır.\n",
    "#Öncelikle bu değerlerdeki M ve k harflerini kaldıralım. Replace metodunu kullanabiliriz."
   ]
  },
  {
   "cell_type": "code",
   "execution_count": 40,
   "id": "54d51089",
   "metadata": {},
   "outputs": [],
   "source": [
    "df[\"Size\"].replace(\"M\",\"\",regex=True, inplace=True) #rEGULAR İFADE KULLANMAK İÇİN TRUE\n",
    "df[\"Size\"].replace(\"k\",\"\",regex=True, inplace=True) "
   ]
  },
  {
   "cell_type": "code",
   "execution_count": 41,
   "id": "346c21cf",
   "metadata": {},
   "outputs": [
    {
     "data": {
      "text/plain": [
       "array(['19', '14', '8.7', '25', '2.8', '5.6', '29', '33', '3.1', '28',\n",
       "       '12', '20', '21', '37', '5.5', '17', '39', '31', '4.2', '7.0',\n",
       "       '23', '6.0', '6.1', '4.6', '9.2', '5.2', '11', '24',\n",
       "       'Varies with device', '9.4', '15', '10', '1.2', '26', '8.0', '7.9',\n",
       "       '56', '57', '35', '54', '201', '3.6', '5.7', '8.6', '2.4', '27',\n",
       "       '2.7', '2.5', '16', '3.4', '8.9', '3.9', '2.9', '38', '32', '5.4',\n",
       "       '18', '1.1', '2.2', '4.5', '9.8', '52', '9.0', '6.7', '30', '2.6',\n",
       "       '7.1', '3.7', '22', '7.4', '6.4', '3.2', '8.2', '9.9', '4.9',\n",
       "       '9.5', '5.0', '5.9', '13', '73', '6.8', '3.5', '4.0', '2.3', '7.2',\n",
       "       '2.1', '42', '7.3', '9.1', '55', '6.5', '1.5', '7.5', '51', '41',\n",
       "       '48', '8.5', '46', '8.3', '4.3', '4.7', '3.3', '40', '7.8', '8.8',\n",
       "       '6.6', '5.1', '61', '66', '79', '8.4', '118', '44', '695', '1.6',\n",
       "       '6.2', '53', '1.4', '3.0', '5.8', '3.8', '9.6', '45', '63', '49',\n",
       "       '77', '4.4', '4.8', '70', '6.9', '9.3', '10.0', '8.1', '36', '84',\n",
       "       '97', '2.0', '1.9', '1.8', '5.3', '47', '556', '526', '76', '7.6',\n",
       "       '59', '9.7', '78', '72', '43', '7.7', '6.3', '334', '34', '93',\n",
       "       '65', '100', '58', '50', '68', '64', '67', '60', '94', '232', '99',\n",
       "       '624', '95', '292', '80', '1.7', '74', '62', '69', '75', '98',\n",
       "       '85', '82', '96', '87', '71', '86', '91', '81', '92', '83', '88',\n",
       "       '704', '862', '899', '378', '266', '375', '1.3', '975', '980',\n",
       "       '4.1', '89', '696', '544', '525', '920', '779', '853', '720',\n",
       "       '713', '772', '318', '241', '196', '857', '953', '865', '251',\n",
       "       '930', '540', '313', '746', '203', '314', '239', '371', '220',\n",
       "       '730', '756', '293', '317', '924', '902', '818', '939', '169',\n",
       "       '475', '965', '90', '545', '283', '655', '714', '872', '121',\n",
       "       '322', '1.0', '976', '172', '238', '549', '206', '954', '444',\n",
       "       '717', '210', '609', '308', '705', '306', '904', '473', '175',\n",
       "       '350', '383', '454', '421', '812', '442', '842', '417', '412',\n",
       "       '459', '478', '335', '782', '721', '430', '429', '192', '200',\n",
       "       '460', '728', '496', '816', '414', '506', '887', '613', '243',\n",
       "       '569', '778', '683', '592', '319', '186', '840', '647', '191',\n",
       "       '373', '437', '598', '716', '585', '982', '219', '948', '323',\n",
       "       '691', '511', '951', '963', '554', '351', '208', '913', '514',\n",
       "       '551', '103', '898', '743', '116', '153', '209', '353', '499',\n",
       "       '173', '597', '809', '122', '411', '400', '801', '787', '643',\n",
       "       '986', '516', '837', '780', '961', '269', '498', '600', '749',\n",
       "       '642', '881', '656', '601', '221', '228', '108', '940', '176',\n",
       "       '663', '942', '259', '164', '458', '245', '629', '288', '775',\n",
       "       '785', '636', '916', '994', '309', '485', '914', '903', '608',\n",
       "       '500', '562', '847', '957', '688', '811', '270', '329', '523',\n",
       "       '921', '874', '981', '784', '280', '518', '754', '892', '154',\n",
       "       '860', '364', '387', '626', '161', '879', '970', '170', '141',\n",
       "       '160', '144', '143', '190', '376', '193', '246', '992', '253',\n",
       "       '420', '404', '470', '226', '240', '234', '257', '861', '467',\n",
       "       '157', '676', '552', '885', '1020', '582', '619'], dtype=object)"
      ]
     },
     "execution_count": 41,
     "metadata": {},
     "output_type": "execute_result"
    }
   ],
   "source": [
    "df[\"Size\"].unique() #verisetindeki m ve k harfleri kaldırıldı fakat 'Varies with device' metni hala duruyor."
   ]
  },
  {
   "cell_type": "code",
   "execution_count": 42,
   "id": "59a9064a",
   "metadata": {},
   "outputs": [],
   "source": [
    "#Burada yapcağım işlem metin değerini kaldırıp diğer değerleri sayısala çevirip değerlerin medyanını bulmak.\n",
    "#Öncelikle bu sütunun medyan değerini bulalım."
   ]
  },
  {
   "cell_type": "code",
   "execution_count": 43,
   "id": "4aa7ee49",
   "metadata": {},
   "outputs": [
    {
     "data": {
      "text/plain": [
       "15.0"
      ]
     },
     "execution_count": 43,
     "metadata": {},
     "output_type": "execute_result"
    }
   ],
   "source": [
    "size_median = df[df[\"Size\"]!=\"Varies with device\"][\"Size\"].astype(float).median() #sayısala çevirmek ondalık tip --> float\n",
    "size_median"
   ]
  },
  {
   "cell_type": "code",
   "execution_count": 44,
   "id": "0263f5c9",
   "metadata": {},
   "outputs": [],
   "source": [
    "#şimdi metin yerine medyan değerini atayalım\n",
    "df[\"Size\"].replace(\"Varies with device\", size_median, inplace=True)"
   ]
  },
  {
   "cell_type": "code",
   "execution_count": 45,
   "id": "cab0595f",
   "metadata": {},
   "outputs": [],
   "source": [
    "df.Size = pd.to_numeric(df.Size) #Artık size sütununu sayısala çevirebiliriz"
   ]
  },
  {
   "cell_type": "code",
   "execution_count": 46,
   "id": "29f85d3e",
   "metadata": {},
   "outputs": [],
   "source": [
    "#Böylece 'Size' sütunundaki stringleri kaldırdık ve sayısala çevirmiş olduk."
   ]
  },
  {
   "cell_type": "code",
   "execution_count": 47,
   "id": "f35e9619",
   "metadata": {},
   "outputs": [
    {
     "data": {
      "text/plain": [
       "0    19.0\n",
       "1    14.0\n",
       "2     8.7\n",
       "3    25.0\n",
       "4     2.8\n",
       "Name: Size, dtype: float64"
      ]
     },
     "execution_count": 47,
     "metadata": {},
     "output_type": "execute_result"
    }
   ],
   "source": [
    "df.Size.head() #Size sütunundaki değerleri ele alalım değerler sayısala dönüştü ve veritipi float olmuş vaziyette."
   ]
  },
  {
   "cell_type": "code",
   "execution_count": 48,
   "id": "82ad0ff8",
   "metadata": {},
   "outputs": [
    {
     "data": {
      "text/plain": [
       "count    10829.0\n",
       "mean        34.0\n",
       "std         91.0\n",
       "min          1.0\n",
       "25%          7.0\n",
       "50%         15.0\n",
       "75%         28.0\n",
       "max       1020.0\n",
       "Name: Size, dtype: float64"
      ]
     },
     "execution_count": 48,
     "metadata": {},
     "output_type": "execute_result"
    }
   ],
   "source": [
    "df.Size.describe().round() #Bu sütunun özet istatistikleri de aşağıdaki gibidir."
   ]
  },
  {
   "cell_type": "code",
   "execution_count": 49,
   "id": "1f134c86",
   "metadata": {},
   "outputs": [
    {
     "data": {
      "text/plain": [
       "array(['10,000+', '500,000+', '5,000,000+', '50,000,000+', '100,000+',\n",
       "       '50,000+', '1,000,000+', '10,000,000+', '5,000+', '100,000,000+',\n",
       "       '1,000,000,000+', '1,000+', '500,000,000+', '50+', '100+', '500+',\n",
       "       '10+', '1+', '5+', '0+'], dtype=object)"
      ]
     },
     "execution_count": 49,
     "metadata": {},
     "output_type": "execute_result"
    }
   ],
   "source": [
    "df[\"Installs\"].unique() #Gözüktüğü gibi yükleme sayılarının yanında + sembolleri var ve rakamlar arası virgüller yer alıyor\n",
    "#Hem + hem de , 'leri kaldıralım. Bu işlemi yapabilmek için lambda fonksiyonu kullanmamız gerekiyor."
   ]
  },
  {
   "cell_type": "code",
   "execution_count": 50,
   "id": "6ce9d71f",
   "metadata": {},
   "outputs": [],
   "source": [
    "df.Installs = df.Installs.apply(lambda x:x.replace(\"+\",\"\"))\n",
    "df.Installs = df.Installs.apply(lambda x:x.replace(\",\",\"\"))\n",
    "df.Installs = df.Installs.apply(lambda x:int(x))"
   ]
  },
  {
   "cell_type": "code",
   "execution_count": 51,
   "id": "719ca499",
   "metadata": {},
   "outputs": [
    {
     "data": {
      "text/plain": [
       "array([     10000,     500000,    5000000,   50000000,     100000,\n",
       "            50000,    1000000,   10000000,       5000,  100000000,\n",
       "       1000000000,       1000,  500000000,         50,        100,\n",
       "              500,         10,          1,          5,          0],\n",
       "      dtype=int64)"
      ]
     },
     "execution_count": 51,
     "metadata": {},
     "output_type": "execute_result"
    }
   ],
   "source": [
    "df[\"Installs\"].unique()"
   ]
  },
  {
   "cell_type": "code",
   "execution_count": 52,
   "id": "cfdcf09e",
   "metadata": {},
   "outputs": [],
   "source": [
    "#Yapılan değişikliklerden sonra dikkat edersek sayılar içerisindeki virgüller ve + işaretleri kaldırıldı.\n",
    "#ve veri tipi int olmuş vaziyette."
   ]
  },
  {
   "cell_type": "code",
   "execution_count": 53,
   "id": "aab491ab",
   "metadata": {},
   "outputs": [],
   "source": [
    "#ŞİMDİ 'PRİCE' sütununun inceleyelim."
   ]
  },
  {
   "cell_type": "code",
   "execution_count": 54,
   "id": "f6a06052",
   "metadata": {},
   "outputs": [
    {
     "data": {
      "text/plain": [
       "array(['0', '$4.99', '$3.99', '$6.99', '$1.49', '$2.99', '$7.99', '$5.99',\n",
       "       '$3.49', '$1.99', '$9.99', '$7.49', '$0.99', '$9.00', '$5.49',\n",
       "       '$10.00', '$24.99', '$11.99', '$79.99', '$16.99', '$14.99',\n",
       "       '$1.00', '$29.99', '$12.99', '$2.49', '$10.99', '$1.50', '$19.99',\n",
       "       '$15.99', '$33.99', '$74.99', '$39.99', '$3.95', '$4.49', '$1.70',\n",
       "       '$8.99', '$2.00', '$3.88', '$25.99', '$399.99', '$17.99',\n",
       "       '$400.00', '$3.02', '$1.76', '$4.84', '$4.77', '$1.61', '$2.50',\n",
       "       '$1.59', '$6.49', '$1.29', '$5.00', '$13.99', '$299.99', '$379.99',\n",
       "       '$37.99', '$18.99', '$389.99', '$19.90', '$8.49', '$1.75',\n",
       "       '$14.00', '$4.85', '$46.99', '$109.99', '$154.99', '$3.08',\n",
       "       '$2.59', '$4.80', '$1.96', '$19.40', '$3.90', '$4.59', '$15.46',\n",
       "       '$3.04', '$4.29', '$2.60', '$3.28', '$4.60', '$28.99', '$2.95',\n",
       "       '$2.90', '$1.97', '$200.00', '$89.99', '$2.56', '$30.99', '$3.61',\n",
       "       '$394.99', '$1.26', '$1.20', '$1.04'], dtype=object)"
      ]
     },
     "execution_count": 54,
     "metadata": {},
     "output_type": "execute_result"
    }
   ],
   "source": [
    "df[\"Price\"].unique() #Dikkat edersek fiyatların önünde dolar sembolü var"
   ]
  },
  {
   "cell_type": "code",
   "execution_count": 55,
   "id": "151abb45",
   "metadata": {},
   "outputs": [],
   "source": [
    "df.Price = df.Price.apply(lambda x:x.replace(\"$\",\"\"))"
   ]
  },
  {
   "cell_type": "code",
   "execution_count": 56,
   "id": "8d6beeb8",
   "metadata": {},
   "outputs": [],
   "source": [
    "df.Price = df.Price.apply(lambda x:float(x))"
   ]
  },
  {
   "cell_type": "code",
   "execution_count": 57,
   "id": "9aaea971",
   "metadata": {},
   "outputs": [
    {
     "data": {
      "text/plain": [
       "array([  0.  ,   4.99,   3.99,   6.99,   1.49,   2.99,   7.99,   5.99,\n",
       "         3.49,   1.99,   9.99,   7.49,   0.99,   9.  ,   5.49,  10.  ,\n",
       "        24.99,  11.99,  79.99,  16.99,  14.99,   1.  ,  29.99,  12.99,\n",
       "         2.49,  10.99,   1.5 ,  19.99,  15.99,  33.99,  74.99,  39.99,\n",
       "         3.95,   4.49,   1.7 ,   8.99,   2.  ,   3.88,  25.99, 399.99,\n",
       "        17.99, 400.  ,   3.02,   1.76,   4.84,   4.77,   1.61,   2.5 ,\n",
       "         1.59,   6.49,   1.29,   5.  ,  13.99, 299.99, 379.99,  37.99,\n",
       "        18.99, 389.99,  19.9 ,   8.49,   1.75,  14.  ,   4.85,  46.99,\n",
       "       109.99, 154.99,   3.08,   2.59,   4.8 ,   1.96,  19.4 ,   3.9 ,\n",
       "         4.59,  15.46,   3.04,   4.29,   2.6 ,   3.28,   4.6 ,  28.99,\n",
       "         2.95,   2.9 ,   1.97, 200.  ,  89.99,   2.56,  30.99,   3.61,\n",
       "       394.99,   1.26,   1.2 ,   1.04])"
      ]
     },
     "execution_count": 57,
     "metadata": {},
     "output_type": "execute_result"
    }
   ],
   "source": [
    "df[\"Price\"].unique() #Gözüktüğü gibi verisetinden dolar sembolleri kaldırıldı ve floata çevrildi."
   ]
  },
  {
   "cell_type": "code",
   "execution_count": 58,
   "id": "7259f943",
   "metadata": {},
   "outputs": [
    {
     "data": {
      "text/plain": [
       "119"
      ]
     },
     "execution_count": 58,
     "metadata": {},
     "output_type": "execute_result"
    }
   ],
   "source": [
    "len(df[\"Genres\"].unique()) #119 tane var"
   ]
  },
  {
   "cell_type": "code",
   "execution_count": 59,
   "id": "f999bd1c",
   "metadata": {},
   "outputs": [
    {
     "data": {
      "text/plain": [
       "0                 Art & Design\n",
       "1    Art & Design;Pretend Play\n",
       "2                 Art & Design\n",
       "3                 Art & Design\n",
       "4      Art & Design;Creativity\n",
       "5                 Art & Design\n",
       "6                 Art & Design\n",
       "7                 Art & Design\n",
       "8                 Art & Design\n",
       "9      Art & Design;Creativity\n",
       "Name: Genres, dtype: object"
      ]
     },
     "execution_count": 59,
     "metadata": {},
     "output_type": "execute_result"
    }
   ],
   "source": [
    "df[\"Genres\"].head(10) "
   ]
  },
  {
   "cell_type": "code",
   "execution_count": 60,
   "id": "cd829834",
   "metadata": {},
   "outputs": [],
   "source": [
    "#Bazı satırlarda noktalı virgl var ve ilk değer türü ikinci değer alt kategoriyi gösteriyor.\n",
    "#Önce bu iki ifadeyi ayırıp sadece genre ifadesini allaım\n",
    "df[\"Genres\"] = df[\"Genres\"].str.split(\";\").str[0] #; ile ayıracağımı söyledim"
   ]
  },
  {
   "cell_type": "code",
   "execution_count": 61,
   "id": "ab50c922",
   "metadata": {},
   "outputs": [
    {
     "data": {
      "text/plain": [
       "48"
      ]
     },
     "execution_count": 61,
     "metadata": {},
     "output_type": "execute_result"
    }
   ],
   "source": [
    "len(df[\"Genres\"].unique())  #unique değer daha önce 119 ken şuan 48 e indi."
   ]
  },
  {
   "cell_type": "code",
   "execution_count": 62,
   "id": "6decdfb4",
   "metadata": {},
   "outputs": [
    {
     "data": {
      "text/plain": [
       "array(['Art & Design', 'Auto & Vehicles', 'Beauty', 'Books & Reference',\n",
       "       'Business', 'Comics', 'Communication', 'Dating', 'Education',\n",
       "       'Entertainment', 'Events', 'Finance', 'Food & Drink',\n",
       "       'Health & Fitness', 'House & Home', 'Libraries & Demo',\n",
       "       'Lifestyle', 'Adventure', 'Arcade', 'Casual', 'Card', 'Action',\n",
       "       'Strategy', 'Puzzle', 'Sports', 'Music', 'Word', 'Racing',\n",
       "       'Simulation', 'Board', 'Trivia', 'Role Playing', 'Educational',\n",
       "       'Music & Audio', 'Video Players & Editors', 'Medical', 'Social',\n",
       "       'Shopping', 'Photography', 'Travel & Local', 'Tools',\n",
       "       'Personalization', 'Productivity', 'Parenting', 'Weather',\n",
       "       'News & Magazines', 'Maps & Navigation', 'Casino'], dtype=object)"
      ]
     },
     "execution_count": 62,
     "metadata": {},
     "output_type": "execute_result"
    }
   ],
   "source": [
    "df[\"Genres\"].unique()\n"
   ]
  },
  {
   "cell_type": "code",
   "execution_count": 63,
   "id": "16d1b37c",
   "metadata": {},
   "outputs": [
    {
     "data": {
      "text/plain": [
       "Tools                      841\n",
       "Entertainment              666\n",
       "Education                  644\n",
       "Medical                    463\n",
       "Business                   460\n",
       "Productivity               424\n",
       "Sports                     402\n",
       "Personalization            390\n",
       "Communication              388\n",
       "Lifestyle                  383\n",
       "Action                     382\n",
       "Finance                    366\n",
       "Health & Fitness           343\n",
       "Photography                335\n",
       "Social                     295\n",
       "News & Magazines           283\n",
       "Casual                     270\n",
       "Shopping                   260\n",
       "Travel & Local             258\n",
       "Arcade                     237\n",
       "Dating                     234\n",
       "Books & Reference          233\n",
       "Simulation                 218\n",
       "Video Players & Editors    178\n",
       "Puzzle                     166\n",
       "Maps & Navigation          137\n",
       "Food & Drink               127\n",
       "Role Playing               123\n",
       "Racing                     119\n",
       "Educational                112\n",
       "Strategy                   110\n",
       "Adventure                   91\n",
       "House & Home                88\n",
       "Auto & Vehicles             85\n",
       "Libraries & Demo            84\n",
       "Weather                     82\n",
       "Art & Design                68\n",
       "Events                      64\n",
       "Board                       63\n",
       "Parenting                   60\n",
       "Comics                      60\n",
       "Beauty                      53\n",
       "Card                        51\n",
       "Trivia                      39\n",
       "Casino                      39\n",
       "Word                        29\n",
       "Music                       25\n",
       "Music & Audio                1\n",
       "Name: Genres, dtype: int64"
      ]
     },
     "execution_count": 63,
     "metadata": {},
     "output_type": "execute_result"
    }
   ],
   "source": [
    "#Bu sütundaki grupların sayısını bulalım\n",
    "df[\"Genres\"].value_counts()"
   ]
  },
  {
   "cell_type": "code",
   "execution_count": 64,
   "id": "d4c6ed37",
   "metadata": {},
   "outputs": [
    {
     "data": {
      "text/plain": [
       "0     January 7, 2018\n",
       "1    January 15, 2018\n",
       "2      August 1, 2018\n",
       "3        June 8, 2018\n",
       "4       June 20, 2018\n",
       "Name: Last_Updated, dtype: object"
      ]
     },
     "execution_count": 64,
     "metadata": {},
     "output_type": "execute_result"
    }
   ],
   "source": [
    "df[\"Last_Updated\"].head() #En son bu sütunu ele alabiliriz"
   ]
  },
  {
   "cell_type": "code",
   "execution_count": 65,
   "id": "a351576c",
   "metadata": {},
   "outputs": [],
   "source": [
    "#Gözüktüğü gibi bu sütunlarda tarihler var fakat bu sütun obje tipinde\n",
    "#Pandasta datetime adında veri tipi var. Yani tarih tipi. Bu sütunu tarih tipine çeviriyor\n",
    "df[\"Last_Updated\"] = pd.to_datetime (df[\"Last_Updated\"])"
   ]
  },
  {
   "cell_type": "code",
   "execution_count": 66,
   "id": "10ab8b32",
   "metadata": {},
   "outputs": [
    {
     "data": {
      "text/html": [
       "<div>\n",
       "<style scoped>\n",
       "    .dataframe tbody tr th:only-of-type {\n",
       "        vertical-align: middle;\n",
       "    }\n",
       "\n",
       "    .dataframe tbody tr th {\n",
       "        vertical-align: top;\n",
       "    }\n",
       "\n",
       "    .dataframe thead th {\n",
       "        text-align: right;\n",
       "    }\n",
       "</style>\n",
       "<table border=\"1\" class=\"dataframe\">\n",
       "  <thead>\n",
       "    <tr style=\"text-align: right;\">\n",
       "      <th></th>\n",
       "      <th>App</th>\n",
       "      <th>Category</th>\n",
       "      <th>Rating</th>\n",
       "      <th>Reviews</th>\n",
       "      <th>Size</th>\n",
       "      <th>Installs</th>\n",
       "      <th>Type</th>\n",
       "      <th>Price</th>\n",
       "      <th>Content_Rating</th>\n",
       "      <th>Genres</th>\n",
       "      <th>Last_Updated</th>\n",
       "      <th>Current_Ver</th>\n",
       "      <th>Android_Ver</th>\n",
       "    </tr>\n",
       "  </thead>\n",
       "  <tbody>\n",
       "    <tr>\n",
       "      <th>0</th>\n",
       "      <td>Photo Editor &amp; Candy Camera &amp; Grid &amp; ScrapBook</td>\n",
       "      <td>ART_AND_DESIGN</td>\n",
       "      <td>4.1</td>\n",
       "      <td>159</td>\n",
       "      <td>19.0</td>\n",
       "      <td>10000</td>\n",
       "      <td>Free</td>\n",
       "      <td>0.0</td>\n",
       "      <td>Everyone</td>\n",
       "      <td>Art &amp; Design</td>\n",
       "      <td>2018-01-07</td>\n",
       "      <td>1.0.0</td>\n",
       "      <td>4.0.3 and up</td>\n",
       "    </tr>\n",
       "    <tr>\n",
       "      <th>1</th>\n",
       "      <td>Coloring book moana</td>\n",
       "      <td>ART_AND_DESIGN</td>\n",
       "      <td>3.9</td>\n",
       "      <td>967</td>\n",
       "      <td>14.0</td>\n",
       "      <td>500000</td>\n",
       "      <td>Free</td>\n",
       "      <td>0.0</td>\n",
       "      <td>Everyone</td>\n",
       "      <td>Art &amp; Design</td>\n",
       "      <td>2018-01-15</td>\n",
       "      <td>2.0.0</td>\n",
       "      <td>4.0.3 and up</td>\n",
       "    </tr>\n",
       "    <tr>\n",
       "      <th>2</th>\n",
       "      <td>U Launcher Lite – FREE Live Cool Themes, Hide ...</td>\n",
       "      <td>ART_AND_DESIGN</td>\n",
       "      <td>4.7</td>\n",
       "      <td>87510</td>\n",
       "      <td>8.7</td>\n",
       "      <td>5000000</td>\n",
       "      <td>Free</td>\n",
       "      <td>0.0</td>\n",
       "      <td>Everyone</td>\n",
       "      <td>Art &amp; Design</td>\n",
       "      <td>2018-08-01</td>\n",
       "      <td>1.2.4</td>\n",
       "      <td>4.0.3 and up</td>\n",
       "    </tr>\n",
       "    <tr>\n",
       "      <th>3</th>\n",
       "      <td>Sketch - Draw &amp; Paint</td>\n",
       "      <td>ART_AND_DESIGN</td>\n",
       "      <td>4.5</td>\n",
       "      <td>215644</td>\n",
       "      <td>25.0</td>\n",
       "      <td>50000000</td>\n",
       "      <td>Free</td>\n",
       "      <td>0.0</td>\n",
       "      <td>Teen</td>\n",
       "      <td>Art &amp; Design</td>\n",
       "      <td>2018-06-08</td>\n",
       "      <td>Varies with device</td>\n",
       "      <td>4.2 and up</td>\n",
       "    </tr>\n",
       "    <tr>\n",
       "      <th>4</th>\n",
       "      <td>Pixel Draw - Number Art Coloring Book</td>\n",
       "      <td>ART_AND_DESIGN</td>\n",
       "      <td>4.3</td>\n",
       "      <td>967</td>\n",
       "      <td>2.8</td>\n",
       "      <td>100000</td>\n",
       "      <td>Free</td>\n",
       "      <td>0.0</td>\n",
       "      <td>Everyone</td>\n",
       "      <td>Art &amp; Design</td>\n",
       "      <td>2018-06-20</td>\n",
       "      <td>1.1</td>\n",
       "      <td>4.4 and up</td>\n",
       "    </tr>\n",
       "  </tbody>\n",
       "</table>\n",
       "</div>"
      ],
      "text/plain": [
       "                                                 App        Category  Rating  \\\n",
       "0     Photo Editor & Candy Camera & Grid & ScrapBook  ART_AND_DESIGN     4.1   \n",
       "1                                Coloring book moana  ART_AND_DESIGN     3.9   \n",
       "2  U Launcher Lite – FREE Live Cool Themes, Hide ...  ART_AND_DESIGN     4.7   \n",
       "3                              Sketch - Draw & Paint  ART_AND_DESIGN     4.5   \n",
       "4              Pixel Draw - Number Art Coloring Book  ART_AND_DESIGN     4.3   \n",
       "\n",
       "   Reviews  Size  Installs  Type  Price Content_Rating        Genres  \\\n",
       "0      159  19.0     10000  Free    0.0       Everyone  Art & Design   \n",
       "1      967  14.0    500000  Free    0.0       Everyone  Art & Design   \n",
       "2    87510   8.7   5000000  Free    0.0       Everyone  Art & Design   \n",
       "3   215644  25.0  50000000  Free    0.0           Teen  Art & Design   \n",
       "4      967   2.8    100000  Free    0.0       Everyone  Art & Design   \n",
       "\n",
       "  Last_Updated         Current_Ver   Android_Ver  \n",
       "0   2018-01-07               1.0.0  4.0.3 and up  \n",
       "1   2018-01-15               2.0.0  4.0.3 and up  \n",
       "2   2018-08-01               1.2.4  4.0.3 and up  \n",
       "3   2018-06-08  Varies with device    4.2 and up  \n",
       "4   2018-06-20                 1.1    4.4 and up  "
      ]
     },
     "execution_count": 66,
     "metadata": {},
     "output_type": "execute_result"
    }
   ],
   "source": [
    "df.head() \n",
    "#Verisetinin son haline baktığımızda last_uptade kısmında tarih tipini çevrim yapıldığı gözükmektedir.\n",
    "#Diğer sütunlardaki gereksiz semboller kaldırıldı.\n",
    "#Sütunların veritipleri ayarlandı."
   ]
  },
  {
   "cell_type": "code",
   "execution_count": 67,
   "id": "cf16f5cc",
   "metadata": {},
   "outputs": [
    {
     "data": {
      "text/plain": [
       "App                       object\n",
       "Category                  object\n",
       "Rating                   float64\n",
       "Reviews                    int64\n",
       "Size                     float64\n",
       "Installs                   int64\n",
       "Type                      object\n",
       "Price                    float64\n",
       "Content_Rating            object\n",
       "Genres                    object\n",
       "Last_Updated      datetime64[ns]\n",
       "Current_Ver               object\n",
       "Android_Ver               object\n",
       "dtype: object"
      ]
     },
     "execution_count": 67,
     "metadata": {},
     "output_type": "execute_result"
    }
   ],
   "source": [
    "df.dtypes #Veri temizleme işlemimiz bitmiştir. Gözüktüğü gibi istediğimiz değişiklikleri yapıp veriyi analize hazır hale getirdik."
   ]
  },
  {
   "cell_type": "code",
   "execution_count": 68,
   "id": "b25df500",
   "metadata": {},
   "outputs": [
    {
     "data": {
      "text/plain": [
       "<AxesSubplot:>"
      ]
     },
     "execution_count": 68,
     "metadata": {},
     "output_type": "execute_result"
    },
    {
     "data": {
      "image/png": "[encoded data removed]",
      "text/plain": [
       "<Figure size 432x288 with 1 Axes>"
      ]
     },
     "metadata": {
      "needs_background": "light"
     },
     "output_type": "display_data"
    }
   ],
   "source": [
    "#Play store'dan indirilen ücretli ve ücretsiz uygulamaların sayısına göz atalım.\n",
    "df[\"Type\"].value_counts().plot(kind=\"bar\",color = \"brown\")"
   ]
  },
  {
   "cell_type": "code",
   "execution_count": 69,
   "id": "a94b2bce",
   "metadata": {},
   "outputs": [],
   "source": [
    "#Görüldüğü gibi ücretsiz uygulamaların indirilmesi ücretlilere göre daha fazla gözüküyor.\n",
    "import matplotlib.pyplot as plt"
   ]
  },
  {
   "cell_type": "code",
   "execution_count": 70,
   "id": "fd16d3b6",
   "metadata": {},
   "outputs": [
    {
     "data": {
      "text/plain": [
       "Text(0.5, 1.0, 'Ücretli ve Ücretsiz Uygulamaların Reyting Karşılaştırması')"
      ]
     },
     "execution_count": 70,
     "metadata": {},
     "output_type": "execute_result"
    },
    {
     "data": {
      "image/png": "[encoded data removed]",
      "text/plain": [
       "<Figure size 432x288 with 1 Axes>"
      ]
     },
     "metadata": {
      "needs_background": "light"
     },
     "output_type": "display_data"
    }
   ],
   "source": [
    "#Ücretli ve ücretsiz uygulamalarının reytinglerinin karşılaştırmasını ele alırsak.\n",
    "sns.boxplot(x = \"Type\", y = \"Rating\", data = df)\n",
    "plt.title(\"Ücretli ve Ücretsiz Uygulamaların Reyting Karşılaştırması\")"
   ]
  },
  {
   "cell_type": "code",
   "execution_count": 71,
   "id": "c86795a1",
   "metadata": {},
   "outputs": [],
   "source": [
    "#Kutu grafiğinde kutular verinin yüzde 25 ile yüzde 75 ini gösterir\n",
    "#ortadaki çizgi medyan ifadeler\n",
    "#üst ve alt çizgilere whiskers yani bıyık denir ve bunlar da verinin alt ve üst çeyreklerini gösterir.\n",
    "#1.Kutu ücretsiz uygulamaları 2.kutu ücretli uygulamaları gösteriyor.\n",
    "#Ücretli uygulamların reyting değeri daha fazladır.\n",
    "#Buradaki noktoları aykırı değerler olarak düşünebiliriz.Ayrıca kutu g aykırı dğeerleri görmek için de kullanılır."
   ]
  },
  {
   "cell_type": "code",
   "execution_count": 72,
   "id": "199d8a03",
   "metadata": {},
   "outputs": [],
   "source": [
    "#Şimdi grafik çizdirmek için çok fazla kullanılıan matplotlib kütüphanesini import edelim\n",
    "import matplotlib.pyplot as plt"
   ]
  },
  {
   "cell_type": "code",
   "execution_count": 73,
   "id": "59abd32f",
   "metadata": {},
   "outputs": [
    {
     "data": {
      "text/plain": [
       "Text(0.5, 1.0, 'Sayılarıyla Birlikte İçerik Reytingleri')"
      ]
     },
     "execution_count": 73,
     "metadata": {},
     "output_type": "execute_result"
    },
    {
     "data": {
      "image/png": "[encoded data removed]",
      "text/plain": [
       "<Figure size 432x288 with 1 Axes>"
      ]
     },
     "metadata": {
      "needs_background": "light"
     },
     "output_type": "display_data"
    }
   ],
   "source": [
    "sns.countplot(y = \"Content_Rating\", data = df)\n",
    "plt.title(\"Sayılarıyla Birlikte İçerik Reytingleri\")"
   ]
  },
  {
   "cell_type": "code",
   "execution_count": 74,
   "id": "392a28b1",
   "metadata": {},
   "outputs": [],
   "source": [
    "#Uygulamaların en fazla hitap ettiği kesim yani herkes\n",
    "#Sonra gençlere sonra 10+ üstü insanlara.\n",
    "\n",
    "#Uygulamaların bu Gruplara göre reytinglerini bulmak istersek"
   ]
  },
  {
   "cell_type": "code",
   "execution_count": 75,
   "id": "e77c8975",
   "metadata": {},
   "outputs": [
    {
     "data": {
      "text/plain": [
       "<AxesSubplot:xlabel='Content_Rating', ylabel='Rating'>"
      ]
     },
     "execution_count": 75,
     "metadata": {},
     "output_type": "execute_result"
    },
    {
     "data": {
      "image/png": "[encoded data removed]",
      "text/plain": [
       "<Figure size 432x288 with 1 Axes>"
      ]
     },
     "metadata": {
      "needs_background": "light"
     },
     "output_type": "display_data"
    }
   ],
   "source": [
    "sns.boxplot(x = \"Content_Rating\", y = \"Rating\" , data = df)"
   ]
  },
  {
   "cell_type": "code",
   "execution_count": 76,
   "id": "9678373e",
   "metadata": {},
   "outputs": [
    {
     "data": {
      "text/plain": [
       "Text(0.5, 1.0, 'Kategorilerin Sayısı')"
      ]
     },
     "execution_count": 76,
     "metadata": {},
     "output_type": "execute_result"
    },
    {
     "data": {
      "image/png": "[encoded data removed]",
      "text/plain": [
       "<Figure size 432x288 with 1 Axes>"
      ]
     },
     "metadata": {
      "needs_background": "light"
     },
     "output_type": "display_data"
    }
   ],
   "source": [
    "say_kat = df[\"Category\"].value_counts()\n",
    "sns.barplot(x = say_kat, y =say_kat.index, data =df)\n",
    "plt.title(\"Kategorilerin Sayısı\", size=30)"
   ]
  },
  {
   "cell_type": "code",
   "execution_count": 77,
   "id": "44c45e4b",
   "metadata": {},
   "outputs": [
    {
     "data": {
      "text/plain": [
       "<AxesSubplot:xlabel='Price', ylabel='Category'>"
      ]
     },
     "execution_count": 77,
     "metadata": {},
     "output_type": "execute_result"
    },
    {
     "data": {
      "image/png": "[encoded data removed]",
      "text/plain": [
       "<Figure size 432x288 with 1 Axes>"
      ]
     },
     "metadata": {
      "needs_background": "light"
     },
     "output_type": "display_data"
    }
   ],
   "source": [
    "#Hadi en fazla para verilen kategorilere bakalım\n",
    "sns.scatterplot(data = df, y = \"Category\", x =\"Price\")"
   ]
  },
  {
   "cell_type": "code",
   "execution_count": 78,
   "id": "bab840ab",
   "metadata": {},
   "outputs": [],
   "source": [
    "#Dikkat edilirse en yüksek para verilen uygulamalar FINANCE,LİFESTYLE,VE FAMİLY olduğu grafikte açık şekilde gözüküyor."
   ]
  },
  {
   "cell_type": "code",
   "execution_count": 79,
   "id": "101afc7f",
   "metadata": {},
   "outputs": [
    {
     "name": "stderr",
     "output_type": "stream",
     "text": [
      "C:\\Users\\Batuhan Aslan\\AppData\\Local\\Temp\\ipykernel_2760\\1137845361.py:1: FutureWarning: The default value of numeric_only in DataFrame.corr is deprecated. In a future version, it will default to False. Select only valid columns or specify the value of numeric_only to silence this warning.\n",
      "  sns.heatmap(df.corr(), annot =True, linewidths=.5, fmt=\".2f\")\n"
     ]
    },
    {
     "data": {
      "text/plain": [
       "<AxesSubplot:>"
      ]
     },
     "execution_count": 79,
     "metadata": {},
     "output_type": "execute_result"
    },
    {
     "data": {
      "image/png": "[encoded data removed]",
      "text/plain": [
       "<Figure size 432x288 with 2 Axes>"
      ]
     },
     "metadata": {
      "needs_background": "light"
     },
     "output_type": "display_data"
    }
   ],
   "source": [
    "sns.heatmap(df.corr(), annot =True, linewidths=.5, fmt=\".2f\")"
   ]
  },
  {
   "cell_type": "code",
   "execution_count": 80,
   "id": "b81ac7fe",
   "metadata": {},
   "outputs": [],
   "source": [
    "#Isı grafiği yukarıda gözüktüğü gibidir.\n",
    "#Renkler açıklaştıkça iki değişken arasında ilişki artıyor.\n",
    "#En fazla 0.64 ile Installs ve Reviews arasında ilişki var. Mantıken bir uygulama ne kadar çok indirilmişse yorum sayısı o kadar fazladır.\n"
   ]
  },
  {
   "cell_type": "code",
   "execution_count": 81,
   "id": "60dd73b8",
   "metadata": {},
   "outputs": [
    {
     "data": {
      "text/plain": [
       "<AxesSubplot:xlabel='Rating', ylabel='Count'>"
      ]
     },
     "execution_count": 81,
     "metadata": {},
     "output_type": "execute_result"
    },
    {
     "data": {
      "image/png": "[encoded data removed]",
      "text/plain": [
       "<Figure size 432x288 with 1 Axes>"
      ]
     },
     "metadata": {
      "needs_background": "light"
     },
     "output_type": "display_data"
    }
   ],
   "source": [
    "#Reyting dağılımına göz atabiliriz\n",
    "sns.histplot(df[\"Rating\"], kde = True)"
   ]
  },
  {
   "cell_type": "code",
   "execution_count": 82,
   "id": "0ffc7941",
   "metadata": {},
   "outputs": [],
   "source": [
    "#En çok puan 4.3 civarında olduğu gözüküyor."
   ]
  },
  {
   "cell_type": "code",
   "execution_count": 83,
   "id": "17000a1b",
   "metadata": {},
   "outputs": [
    {
     "name": "stderr",
     "output_type": "stream",
     "text": [
      "C:\\Users\\Batuhan Aslan\\AppData\\Local\\Temp\\ipykernel_2760\\2305524217.py:1: FutureWarning: The default value of numeric_only in DataFrame.corr is deprecated. In a future version, it will default to False. Select only valid columns or specify the value of numeric_only to silence this warning.\n",
      "  df.corr() #Burada sayısal değerler arasındaki ilişkiye matematiksel açıdan bakabiliyoruz.\n"
     ]
    },
    {
     "data": {
      "text/html": [
       "<div>\n",
       "<style scoped>\n",
       "    .dataframe tbody tr th:only-of-type {\n",
       "        vertical-align: middle;\n",
       "    }\n",
       "\n",
       "    .dataframe tbody tr th {\n",
       "        vertical-align: top;\n",
       "    }\n",
       "\n",
       "    .dataframe thead th {\n",
       "        text-align: right;\n",
       "    }\n",
       "</style>\n",
       "<table border=\"1\" class=\"dataframe\">\n",
       "  <thead>\n",
       "    <tr style=\"text-align: right;\">\n",
       "      <th></th>\n",
       "      <th>Rating</th>\n",
       "      <th>Reviews</th>\n",
       "      <th>Size</th>\n",
       "      <th>Installs</th>\n",
       "      <th>Price</th>\n",
       "    </tr>\n",
       "  </thead>\n",
       "  <tbody>\n",
       "    <tr>\n",
       "      <th>Rating</th>\n",
       "      <td>1.000000</td>\n",
       "      <td>0.063172</td>\n",
       "      <td>-0.021997</td>\n",
       "      <td>0.045495</td>\n",
       "      <td>-0.019330</td>\n",
       "    </tr>\n",
       "    <tr>\n",
       "      <th>Reviews</th>\n",
       "      <td>0.063172</td>\n",
       "      <td>1.000000</td>\n",
       "      <td>0.003765</td>\n",
       "      <td>0.643112</td>\n",
       "      <td>-0.009674</td>\n",
       "    </tr>\n",
       "    <tr>\n",
       "      <th>Size</th>\n",
       "      <td>-0.021997</td>\n",
       "      <td>0.003765</td>\n",
       "      <td>1.000000</td>\n",
       "      <td>-0.012574</td>\n",
       "      <td>0.016526</td>\n",
       "    </tr>\n",
       "    <tr>\n",
       "      <th>Installs</th>\n",
       "      <td>0.045495</td>\n",
       "      <td>0.643112</td>\n",
       "      <td>-0.012574</td>\n",
       "      <td>1.000000</td>\n",
       "      <td>-0.011698</td>\n",
       "    </tr>\n",
       "    <tr>\n",
       "      <th>Price</th>\n",
       "      <td>-0.019330</td>\n",
       "      <td>-0.009674</td>\n",
       "      <td>0.016526</td>\n",
       "      <td>-0.011698</td>\n",
       "      <td>1.000000</td>\n",
       "    </tr>\n",
       "  </tbody>\n",
       "</table>\n",
       "</div>"
      ],
      "text/plain": [
       "            Rating   Reviews      Size  Installs     Price\n",
       "Rating    1.000000  0.063172 -0.021997  0.045495 -0.019330\n",
       "Reviews   0.063172  1.000000  0.003765  0.643112 -0.009674\n",
       "Size     -0.021997  0.003765  1.000000 -0.012574  0.016526\n",
       "Installs  0.045495  0.643112 -0.012574  1.000000 -0.011698\n",
       "Price    -0.019330 -0.009674  0.016526 -0.011698  1.000000"
      ]
     },
     "execution_count": 83,
     "metadata": {},
     "output_type": "execute_result"
    }
   ],
   "source": [
    "df.corr() #Burada sayısal değerler arasındaki ilişkiye matematiksel açıdan bakabiliyoruz.\n",
    "\n",
    "#KORELASYON MATRİSİNİN SAYISAL HALİ"
   ]
  },
  {
   "cell_type": "code",
   "execution_count": 84,
   "id": "316f3602",
   "metadata": {},
   "outputs": [
    {
     "name": "stderr",
     "output_type": "stream",
     "text": [
      "C:\\Users\\Batuhan Aslan\\AppData\\Local\\Temp\\ipykernel_2760\\1459931047.py:1: FutureWarning: The default value of numeric_only in DataFrame.corr is deprecated. In a future version, it will default to False. Select only valid columns or specify the value of numeric_only to silence this warning.\n",
      "  sns.heatmap(df.corr()) #Yineburada da değerleri gözükmediği halde hangi iki kavram arasında nasıl bir ilişki var\n"
     ]
    },
    {
     "data": {
      "text/plain": [
       "<AxesSubplot:>"
      ]
     },
     "execution_count": 84,
     "metadata": {},
     "output_type": "execute_result"
    },
    {
     "data": {
      "image/png": "[encoded data removed]",
      "text/plain": [
       "<Figure size 432x288 with 2 Axes>"
      ]
     },
     "metadata": {
      "needs_background": "light"
     },
     "output_type": "display_data"
    }
   ],
   "source": [
    "sns.heatmap(df.corr()) #Yineburada da değerleri gözükmediği halde hangi iki kavram arasında nasıl bir ilişki var\n",
    "#bunu anlayabiliyoruz.\n",
    "\n",
    "#KORELASYON MATRİSİNİN ISI GRAFİĞİNDEKİ HALİ"
   ]
  }
 ],
 "metadata": {
  "kernelspec": {
   "display_name": "Python 3 (ipykernel)",
   "language": "python",
   "name": "python3"
  },
  "language_info": {
   "codemirror_mode": {
    "name": "ipython",
    "version": 3
   },
   "file_extension": ".py",
   "mimetype": "text/x-python",
   "name": "python",
   "nbconvert_exporter": "python",
   "pygments_lexer": "ipython3",
   "version": "3.10.5"
  }
 },
 "nbformat": 4,
 "nbformat_minor": 5
}
